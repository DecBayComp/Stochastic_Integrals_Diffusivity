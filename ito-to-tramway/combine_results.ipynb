{
 "cells": [
  {
   "cell_type": "code",
   "execution_count": 1,
   "metadata": {},
   "outputs": [
    {
     "name": "stdout",
     "output_type": "stream",
     "text": [
      "Using matplotlib backend: TkAgg\n"
     ]
    }
   ],
   "source": [
    "%matplotlib"
   ]
  },
  {
   "cell_type": "code",
   "execution_count": 170,
   "metadata": {},
   "outputs": [
    {
     "data": {
      "application/vnd.jupyter.widget-view+json": {
       "model_id": "bebd65f609eb4a3c99a71fc11894274f",
       "version_major": 2,
       "version_minor": 0
      },
      "text/plain": [
       "FloatProgress(value=0.0, description='Calculating:')"
      ]
     },
     "metadata": {},
     "output_type": "display_data"
    },
    {
     "name": "stdout",
     "output_type": "stream",
     "text": [
      "Finished!\n",
      "Files analyzed: 101000\n",
      "Trials processed: 1000\n"
     ]
    }
   ],
   "source": [
    "\n",
    "\n",
    "\n",
    "from constants import results_folder, k, D_0, D_ratio, dt\n",
    "from bayes_factors.find_marginalized_zeta_t_roots import find_marginalized_zeta_t_roots\n",
    "import glob\n",
    "import matplotlib\n",
    "import matplotlib.pyplot as plt\n",
    "import numpy as np\n",
    "import os\n",
    "import pandas as pd\n",
    "from set_figure_size import set_figure_size\n",
    "\n",
    "# For progress visualization\n",
    "from ipywidgets import FloatProgress\n",
    "from IPython.display import display\n",
    "\n",
    "# def combine_results():\n",
    "\n",
    "## Constants\n",
    "lg_B_abs_treshold = 1.0\n",
    "alpha = 0.13\n",
    "fill_color_sequence = [\"r\", \"b\", \"b\"]\n",
    "ksi_precision = 2\n",
    "quantile = 0.05\n",
    "combined_data_file = \"combined_data.csv\"\n",
    "\n",
    "# Get a list of results files\n",
    "results_files = glob.glob(results_folder + \"*.dat\")\n",
    "files_count = len(results_files)\n",
    "# files_count = 200\n",
    "\n",
    "# Load data\n",
    "if not os.path.exists(combined_data_file):\n",
    "    ksis = np.zeros(files_count, dtype = np.float16)\n",
    "    mean_ns = np.zeros(files_count, dtype = np.float16)\n",
    "    tr_Bs = np.zeros((files_count, 3), dtype = np.float16)\n",
    "    # i=10\n",
    "    progress = 0\n",
    "    progress_bar = FloatProgress(min = 0, max = 100, description = \"Calculating:\")\n",
    "    display(progress_bar)\n",
    "    for i in range(files_count):\n",
    "        file = results_files[i]\n",
    "        df = pd.read_csv(file)\n",
    "\n",
    "        # Get ksi\n",
    "        ksis[i] = df[\"ksi\"].loc[0]\n",
    "        mean_ns[i] = np.nanmean(df[\"n_mean\"])\n",
    "\n",
    "        # Get tr_Bs\n",
    "        cur_lg_Bs = np.asarray(df[\"log10_B\"])\n",
    "        cells_count = np.size(cur_lg_Bs, 0)\n",
    "        tr_Bs[i, 2] = np.sum((cur_lg_Bs >= lg_B_abs_treshold) * 1.0) / cells_count\n",
    "        tr_Bs[i, 0] = np.sum((cur_lg_Bs <= -lg_B_abs_treshold) * 1.0) / cells_count\n",
    "        tr_Bs[i, 1] = 1 - tr_Bs[i, 0] - tr_Bs[i, 2]\n",
    "\n",
    "\n",
    "        if i / files_count * 100.0 >= progress:\n",
    "            progress += 1\n",
    "#             print(\"Progress: %i%% (%i/%i)\" % (progress, i, files_count))\n",
    "        progress_bar.value = progress\n",
    "\n",
    "    # Convert to a data frame\n",
    "    data = pd.DataFrame({\n",
    "        \"ksi\": ksis, \n",
    "        \"ksi_rnd\": np.asarray(ksis * 10**ksi_precision, dtype = np.int),\n",
    "        \"mean_n\": mean_ns, \n",
    "        \"frac_cons\": tr_Bs[:, 2], \n",
    "        \"frac_uncert\": tr_Bs[:, 1], \n",
    "        \"frac_spur\": tr_Bs[:, 0]},\n",
    "        )\n",
    "\n",
    "    # Clean up\n",
    "    ksis = []\n",
    "    cur_lg_Bs = []\n",
    "    cells_count = []\n",
    "    tr_Bs = []\n",
    "else:\n",
    "    data = pd.read_csv(combined_data_file)\n",
    "    print(\"Warning: trajectories not reloaded\")\n",
    "\n",
    "# Average over trials\n",
    "avg_data = data.groupby(by = \"ksi_rnd\").mean()\n",
    "top_quantile = data.groupby(by = \"ksi_rnd\").quantile(q = 0.975)\n",
    "bottom_quantile = data.groupby(by = \"ksi_rnd\").quantile(q = 0.225)\n",
    "ksis_unique = avg_data[\"ksi\"]\n",
    "trials_number = data.groupby(by = \"ksi_rnd\").count().iloc[0].tolist()[0]\n",
    "\n",
    "print(\"Finished!\")\n",
    "print(\"Files analyzed: %i\" % files_count)\n",
    "print(\"Trials processed: %i\" % trials_number)\n",
    "\n",
    "# Save data to csvs\n",
    "data.to_csv(combined_data_file)\n",
    "\n",
    "\n",
    "# print(ksis_unique)\n",
    "\n",
    "# print(avg_data)\n",
    "\n",
    "\n",
    "\n"
   ]
  },
  {
   "cell_type": "code",
   "execution_count": 171,
   "metadata": {},
   "outputs": [
    {
     "name": "stdout",
     "output_type": "stream",
     "text": [
      "0.016568542494923802\n",
      "[-0.2155  -0.09094  0.10754  0.232  ]\n"
     ]
    }
   ],
   "source": [
    "## >>> Theoretical estimates <<<\n",
    "n_pi = 4\n",
    "u = 1.0\n",
    "dim = 2\n",
    "theor_Bs = [0.1, 10.0]\n",
    "D_max = D_0 * D_ratio\n",
    "sim_abs_zeta_sp = k * D_0 * np.sqrt(dt) / (np.sqrt(D_0) + np.sqrt(D_max))\n",
    "exp_mean_n = np.mean(mean_ns)\n",
    "\n",
    "\n",
    "\n",
    "# Zeta_t roots calculation (probably needs some testing)\n",
    "exp_zeta_ts = np.zeros(4, dtype = np.float16)\n",
    "exp_zeta_ts_over_zeta_sps = np.zeros(4, dtype = np.float16)\n",
    "# Low B threshold\n",
    "zeta_t_perp = 0.0\n",
    "exp_zeta_ts[[1, 2]] = find_marginalized_zeta_t_roots(zeta_sp = [sim_abs_zeta_sp], \n",
    "    n = exp_mean_n, n_pi = n_pi, B = theor_Bs[0], u = u, dim = dim, zeta_t_perp = zeta_t_perp)\n",
    "exp_zeta_ts[[0, 3]] = find_marginalized_zeta_t_roots(zeta_sp = [sim_abs_zeta_sp], \n",
    "    n = exp_mean_n, n_pi = n_pi, B = theor_Bs[1], u = u, dim = dim, zeta_t_perp = zeta_t_perp)\n",
    "\n",
    "exp_zeta_ts_over_zeta_sps = exp_zeta_ts / sim_abs_zeta_sp\n",
    "print(sim_abs_zeta_sp)\n",
    "print(exp_zeta_ts)"
   ]
  },
  {
   "cell_type": "code",
   "execution_count": 172,
   "metadata": {},
   "outputs": [],
   "source": [
    "## >>> Plot <<<\n",
    "\n",
    "\n",
    "# Try to plot from terminal\n",
    "fig = set_figure_size(num = 1, rows = 1, page_width_frac = 0.5)\n",
    "_, ax = plt.subplots(num = 1)\n",
    "ax.plot(ksis_unique.tolist(), avg_data[\"frac_spur\"].tolist(), color = 'r', label = \"spurious\")\n",
    "ax.plot(ksis_unique.tolist(), avg_data[\"frac_uncert\"].tolist(), color = 'g', label = \"ins. ev.\")\n",
    "ax.plot(ksis_unique.tolist(), avg_data[\"frac_cons\"].tolist(), color = 'b', label = \"conserv.\")\n",
    "\n",
    "# Prepare rectangles to fill in the format x, y, width, height\n",
    "xlims = ax.get_xlim()\n",
    "ylims = ax.get_ylim()\n",
    "fill_regions = np.zeros((3, 4), dtype = np.float16)\n",
    "fill_regions[0, :] = [exp_zeta_ts_over_zeta_sps[1], ylims[0], \n",
    "    exp_zeta_ts_over_zeta_sps[2] - exp_zeta_ts_over_zeta_sps[1], ylims[1] - ylims[0]]\n",
    "fill_regions[1, :] = [xlims[0], ylims[0], \n",
    "    exp_zeta_ts_over_zeta_sps[0] - xlims[0], ylims[1] - ylims[0]]\n",
    "fill_regions[2, :] = [exp_zeta_ts_over_zeta_sps[3], ylims[0], \n",
    "    xlims[1] - exp_zeta_ts_over_zeta_sps[3], ylims[1] - ylims[0]]\n",
    "\n",
    "# ax.legend()\n",
    "\n",
    "# Add fill\n",
    "for i in range(3):\n",
    "    ax.add_patch(matplotlib.patches.Rectangle((fill_regions[i, 0], fill_regions[i, 1]), \n",
    "        fill_regions[i, 2], fill_regions[i, 3], facecolor = fill_color_sequence[i], \n",
    "        edgecolor = \"none\", fill = True, alpha = alpha))\n",
    "\n",
    "\n",
    "# Adjust\n",
    "ax.set_xlabel(\"Simulated $\\zeta_t / \\zeta_{sp}$\")\n",
    "ax.set_ylabel(\"Fraction\")\n",
    "ax.set_title(\"$\\\\bar{n} = %i$, trials = %i\" % (round(exp_mean_n), trials_number))\n",
    "ax.legend(loc = \"lower left\")\n",
    "plt.ion()\n",
    "\n",
    "fig.tight_layout()\n",
    "# fig.subplots_adjust(bottom=0.1)\n",
    "plt.show()\n",
    "\n",
    "\n",
    "\n",
    "fig.savefig(\"simulation_results.png\")\n",
    "fig.savefig(\"simulation_results.pdf\")"
   ]
  },
  {
   "cell_type": "code",
   "execution_count": null,
   "metadata": {},
   "outputs": [],
   "source": []
  },
  {
   "cell_type": "code",
   "execution_count": null,
   "metadata": {},
   "outputs": [],
   "source": []
  }
 ],
 "metadata": {
  "kernelspec": {
   "display_name": "Python 3",
   "language": "python",
   "name": "python3"
  },
  "language_info": {
   "codemirror_mode": {
    "name": "ipython",
    "version": 3
   },
   "file_extension": ".py",
   "mimetype": "text/x-python",
   "name": "python",
   "nbconvert_exporter": "python",
   "pygments_lexer": "ipython3",
   "version": "3.6.4"
  }
 },
 "nbformat": 4,
 "nbformat_minor": 2
}
