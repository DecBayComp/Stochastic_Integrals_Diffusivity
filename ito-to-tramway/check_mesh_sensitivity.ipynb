{
 "cells": [
  {
   "cell_type": "code",
   "execution_count": 1,
   "metadata": {},
   "outputs": [
    {
     "name": "stdout",
     "output_type": "stream",
     "text": [
      "Using matplotlib backend: TkAgg\n"
     ]
    }
   ],
   "source": [
    "# Magic functions\n",
    "%matplotlib\n",
    "%load_ext autoreload\n",
    "%autoreload 2"
   ]
  },
  {
   "cell_type": "code",
   "execution_count": 13,
   "metadata": {},
   "outputs": [
    {
     "data": {
      "application/javascript": [
       "IPython.OutputArea.prototype._should_scroll = function(lines) {\n",
       "    return false;\n",
       "}"
      ],
      "text/plain": [
       "<IPython.core.display.Javascript object>"
      ]
     },
     "metadata": {},
     "output_type": "display_data"
    }
   ],
   "source": [
    "%%javascript\n",
    "IPython.OutputArea.prototype._should_scroll = function(lines) {\n",
    "    return false;\n",
    "}"
   ]
  },
  {
   "cell_type": "code",
   "execution_count": 2,
   "metadata": {},
   "outputs": [
    {
     "name": "stderr",
     "output_type": "stream",
     "text": [
      "D:\\git\\Stochastic_Integrals_Diffusivity\\ito-to-tramway\\calculate.py:10: UserWarning: \n",
      "This call to matplotlib.use() has no effect because the backend has already\n",
      "been chosen; matplotlib.use() must be called *before* pylab, matplotlib.pyplot,\n",
      "or matplotlib.backends is imported for the first time.\n",
      "\n",
      "The backend was *originally* set to 'TkAgg' by the following code:\n",
      "  File \"c:\\python36\\lib\\runpy.py\", line 193, in _run_module_as_main\n",
      "    \"__main__\", mod_spec)\n",
      "  File \"c:\\python36\\lib\\runpy.py\", line 85, in _run_code\n",
      "    exec(code, run_globals)\n",
      "  File \"c:\\python36\\lib\\site-packages\\ipykernel_launcher.py\", line 16, in <module>\n",
      "    app.launch_new_instance()\n",
      "  File \"c:\\python36\\lib\\site-packages\\traitlets\\config\\application.py\", line 658, in launch_instance\n",
      "    app.start()\n",
      "  File \"c:\\python36\\lib\\site-packages\\ipykernel\\kernelapp.py\", line 486, in start\n",
      "    self.io_loop.start()\n",
      "  File \"c:\\python36\\lib\\site-packages\\tornado\\platform\\asyncio.py\", line 112, in start\n",
      "    self.asyncio_loop.run_forever()\n",
      "  File \"c:\\python36\\lib\\asyncio\\base_events.py\", line 421, in run_forever\n",
      "    self._run_once()\n",
      "  File \"c:\\python36\\lib\\asyncio\\base_events.py\", line 1431, in _run_once\n",
      "    handle._run()\n",
      "  File \"c:\\python36\\lib\\asyncio\\events.py\", line 145, in _run\n",
      "    self._callback(*self._args)\n",
      "  File \"c:\\python36\\lib\\site-packages\\tornado\\platform\\asyncio.py\", line 102, in _handle_events\n",
      "    handler_func(fileobj, events)\n",
      "  File \"c:\\python36\\lib\\site-packages\\tornado\\stack_context.py\", line 276, in null_wrapper\n",
      "    return fn(*args, **kwargs)\n",
      "  File \"c:\\python36\\lib\\site-packages\\zmq\\eventloop\\zmqstream.py\", line 450, in _handle_events\n",
      "    self._handle_recv()\n",
      "  File \"c:\\python36\\lib\\site-packages\\zmq\\eventloop\\zmqstream.py\", line 480, in _handle_recv\n",
      "    self._run_callback(callback, msg)\n",
      "  File \"c:\\python36\\lib\\site-packages\\zmq\\eventloop\\zmqstream.py\", line 432, in _run_callback\n",
      "    callback(*args, **kwargs)\n",
      "  File \"c:\\python36\\lib\\site-packages\\tornado\\stack_context.py\", line 276, in null_wrapper\n",
      "    return fn(*args, **kwargs)\n",
      "  File \"c:\\python36\\lib\\site-packages\\ipykernel\\kernelbase.py\", line 283, in dispatcher\n",
      "    return self.dispatch_shell(stream, msg)\n",
      "  File \"c:\\python36\\lib\\site-packages\\ipykernel\\kernelbase.py\", line 233, in dispatch_shell\n",
      "    handler(stream, idents, msg)\n",
      "  File \"c:\\python36\\lib\\site-packages\\ipykernel\\kernelbase.py\", line 399, in execute_request\n",
      "    user_expressions, allow_stdin)\n",
      "  File \"c:\\python36\\lib\\site-packages\\ipykernel\\ipkernel.py\", line 208, in do_execute\n",
      "    res = shell.run_cell(code, store_history=store_history, silent=silent)\n",
      "  File \"c:\\python36\\lib\\site-packages\\ipykernel\\zmqshell.py\", line 537, in run_cell\n",
      "    return super(ZMQInteractiveShell, self).run_cell(*args, **kwargs)\n",
      "  File \"c:\\python36\\lib\\site-packages\\IPython\\core\\interactiveshell.py\", line 2662, in run_cell\n",
      "    raw_cell, store_history, silent, shell_futures)\n",
      "  File \"c:\\python36\\lib\\site-packages\\IPython\\core\\interactiveshell.py\", line 2785, in _run_cell\n",
      "    interactivity=interactivity, compiler=compiler, result=result)\n",
      "  File \"c:\\python36\\lib\\site-packages\\IPython\\core\\interactiveshell.py\", line 2903, in run_ast_nodes\n",
      "    if self.run_code(code, result):\n",
      "  File \"c:\\python36\\lib\\site-packages\\IPython\\core\\interactiveshell.py\", line 2963, in run_code\n",
      "    exec(code_obj, self.user_global_ns, self.user_ns)\n",
      "  File \"<ipython-input-1-caea1cb5414e>\", line 2, in <module>\n",
      "    get_ipython().run_line_magic('matplotlib', '')\n",
      "  File \"c:\\python36\\lib\\site-packages\\IPython\\core\\interactiveshell.py\", line 2131, in run_line_magic\n",
      "    result = fn(*args,**kwargs)\n",
      "  File \"<decorator-gen-108>\", line 2, in matplotlib\n",
      "  File \"c:\\python36\\lib\\site-packages\\IPython\\core\\magic.py\", line 187, in <lambda>\n",
      "    call = lambda f, *a, **k: f(*a, **k)\n",
      "  File \"c:\\python36\\lib\\site-packages\\IPython\\core\\magics\\pylab.py\", line 99, in matplotlib\n",
      "    gui, backend = self.shell.enable_matplotlib(args.gui)\n",
      "  File \"c:\\python36\\lib\\site-packages\\IPython\\core\\interactiveshell.py\", line 3051, in enable_matplotlib\n",
      "    pt.activate_matplotlib(backend)\n",
      "  File \"c:\\python36\\lib\\site-packages\\IPython\\core\\pylabtools.py\", line 311, in activate_matplotlib\n",
      "    matplotlib.pyplot.switch_backend(backend)\n",
      "  File \"c:\\python36\\lib\\site-packages\\matplotlib\\pyplot.py\", line 231, in switch_backend\n",
      "    matplotlib.use(newbackend, warn=False, force=True)\n",
      "  File \"c:\\python36\\lib\\site-packages\\matplotlib\\__init__.py\", line 1410, in use\n",
      "    reload(sys.modules['matplotlib.backends'])\n",
      "  File \"c:\\python36\\lib\\importlib\\__init__.py\", line 166, in reload\n",
      "    _bootstrap._exec(spec, module)\n",
      "  File \"c:\\python36\\lib\\site-packages\\matplotlib\\backends\\__init__.py\", line 16, in <module>\n",
      "    line for line in traceback.format_stack()\n",
      "\n",
      "\n",
      "  matplotlib.use('Agg')\n"
     ]
    }
   ],
   "source": [
    "from calculate import calculate\n",
    "from tramway.core import *\n",
    "from tramway.helper.tessellation import cell_plot\n",
    "from tramway.inference.base import Translocations, distributed, Maps\n",
    "from tramway.tessellation import *\n",
    "import numpy as np\n",
    "from numpy.random import rand\n",
    "import os\n",
    "import pandas as pd\n",
    "from pandas import DataFrame\n",
    "from snr import infer_snr\n"
   ]
  },
  {
   "cell_type": "code",
   "execution_count": 17,
   "metadata": {},
   "outputs": [
    {
     "name": "stdout",
     "output_type": "stream",
     "text": [
      "writing file: .\\data\\test_mesh_sensitivity\\01.rwa\n",
      "written analysis tree:\n",
      "\t<class 'pandas.core.frame.DataFrame'>\n",
      "\t\t'n=100' <class 'tramway.tessellation.base.CellStats'>\n",
      "\t\t\t'snr' <class 'tramway.inference.base.Maps'>\n",
      "Using  .\\data\\test_mesh_sensitivity\\01.rwa\n",
      "\n",
      "\n",
      "Mean jump along x: <dx>=\t-0.021 um\n",
      "\n",
      "\n",
      "Median D:\t0.015 um^2/s\n",
      "Measured range of D:\t[0.0088; 0.022] um^2/s\n",
      "\n",
      "\n",
      "Inferred <|D'|>:\t[0.02086991 0.01095199] um/s\n",
      "\n",
      "\n",
      "Median zeta_ts:\t[-0.4335057  -0.00483096]\n",
      "Median abs(zeta_sps):\t[0.01761177 0.00880065]\n",
      "Expected zeta_sps:\t[0.01615805 0.        ]\n",
      "Median n:\t82\n",
      "Median min_n:\t86\n",
      "max(min_n):\t282\n",
      "\n",
      "\n",
      "Inferred <alpha dt>:\t[-0.02039857 -0.00024419] um\n",
      "\n",
      "\n",
      "\n"
     ]
    },
    {
     "name": "stderr",
     "output_type": "stream",
     "text": [
      "c:\\python36\\lib\\site-packages\\pandas\\core\\indexing.py:194: SettingWithCopyWarning: \n",
      "A value is trying to be set on a copy of a slice from a DataFrame\n",
      "\n",
      "See the caveats in the documentation: http://pandas.pydata.org/pandas-docs/stable/indexing.html#indexing-view-versus-copy\n",
      "  self._setitem_with_indexer(indexer, value)\n"
     ]
    }
   ],
   "source": [
    "\n",
    "\n",
    "\n",
    "\n",
    "# Constants\n",
    "csv_file = r\".\\data\\test_mesh_sensitivity\\01.csv\"\n",
    "results_folder = r\".\\data\\test_mesh_sensitivity\\results\" + \"\\\\\"\n",
    "dt = 0.04 # seconds\n",
    "x_min = 0.0 # in um\n",
    "x_max = 1.0 # in um\n",
    "n = 100\n",
    "\n",
    "\n",
    "# Load the trajectories\n",
    "file_no_ext, _ = os.path.splitext(csv_file)\n",
    "rwa_file = '{}.rwa'.format(file_no_ext)\n",
    "\n",
    "data = pd.read_csv(csv_file, sep=';', skiprows=1, names=['x', 'dx', 'y', 'dy'])\n",
    "data['n'] = np.zeros(data.shape[0])\n",
    "data['t'] = np.arange(0., dt * data.shape[0], dt)\n",
    "\n",
    "\n",
    "\n",
    "\n",
    "# Center seeds\n",
    "seeds = rand(n, 2)\n",
    "seeds = x_min + seeds * (x_max - x_min)\n",
    "\n",
    "# Tesselate\n",
    "tessellation = Voronoi(Scaler())\n",
    "tessellation.tessellate(pd.DataFrame(seeds, columns=['x', 'y']))\n",
    "\n",
    "# Bin the data\n",
    "cells = CellStats(data, tessellation)\n",
    "cells.cell_index = tessellation.cell_index(data) # This assigns points to cells (bins)\n",
    "\n",
    "# Create the analysis tree\n",
    "label = \"n=%i\" % n\n",
    "analyses = Analyses(data)\n",
    "analyses.add(Analyses(cells), label = label)\n",
    "\n",
    "# # Save rwa\n",
    "# save_rwa(rwa_file, analyses, force = True)\n",
    "\n",
    "# Plot\n",
    "cell_plot(cells, output_file = file_no_ext + '_mesh_n=%i.png' % n)\n",
    "\n",
    "\n",
    "# Trajectories with pre-defined jumps\n",
    "class TranslocationsDx(Translocations):\n",
    "    def _extract_space(self):\n",
    "        return np.asarray(self.origins[['dx', 'dy']])\n",
    "    @property\n",
    "    def space_cols(self):\n",
    "        return ['x', 'y']\n",
    "    @space_cols.setter\n",
    "    def space_cols(self, cs):\n",
    "        pass\n",
    "\n",
    "## Perform inference\n",
    "# Build a distributed object\n",
    "d = distributed(cells, new_cell=TranslocationsDx) \n",
    "\n",
    "# Run inference, add to cells and save\n",
    "x = d.run(infer_snr, max_iter=10, localization_error = 1e-3) #, diffusivity_prior = 0.001, min_diffusivity = 0.001)\n",
    "analyses[label].add(Maps(x, mode='snr'), label='snr')\n",
    "save_rwa(rwa_file, analyses, force = True, verbose = True)\n",
    "\n",
    "# Calculate the Bayes factors\n",
    "calculate(csv_file = csv_file, results_folder = results_folder, bl_output_map = True, dt = dt, snr_label = 'snr')\n",
    "\n",
    "# Get the presence of forces\n",
    "# dat_file = results_folder + \"_\" + file_no_ext + label + \".dat\"\n",
    "# forces = pd.read_csv\n"
   ]
  },
  {
   "cell_type": "code",
   "execution_count": null,
   "metadata": {},
   "outputs": [],
   "source": []
  }
 ],
 "metadata": {
  "kernelspec": {
   "display_name": "Python 3",
   "language": "python",
   "name": "python3"
  },
  "language_info": {
   "codemirror_mode": {
    "name": "ipython",
    "version": 3
   },
   "file_extension": ".py",
   "mimetype": "text/x-python",
   "name": "python",
   "nbconvert_exporter": "python",
   "pygments_lexer": "ipython3",
   "version": "3.6.4"
  }
 },
 "nbformat": 4,
 "nbformat_minor": 2
}
