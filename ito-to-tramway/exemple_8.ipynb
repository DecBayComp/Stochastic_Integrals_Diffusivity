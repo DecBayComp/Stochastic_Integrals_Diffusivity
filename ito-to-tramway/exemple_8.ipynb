{
 "cells": [
  {
   "cell_type": "code",
   "execution_count": 1,
   "metadata": {},
   "outputs": [],
   "source": [
    "%matplotlib inline"
   ]
  },
  {
   "cell_type": "code",
   "execution_count": 1,
   "metadata": {},
   "outputs": [],
   "source": [
    "# files and parameters\n",
    "\n",
    "trajectory_file = 'Brownien_P1.txt'\n",
    "\n",
    "cell_radii = [.03, .09, .27, .81]\n",
    "location_counts = [20, 80, 320, 1280]\n",
    "\n",
    "#\n",
    "\n",
    "from tramway.helper import *\n",
    "import os.path\n",
    "import numpy as np\n",
    "\n",
    "rwa_file = os.path.splitext(trajectory_file)[0]+'.rwa'\n",
    "trajectory_file = os.path.join('input', trajectory_file)\n"
   ]
  },
  {
   "cell_type": "code",
   "execution_count": 3,
   "metadata": {},
   "outputs": [],
   "source": [
    "# load the trajectories\n",
    "\n",
    "if 'Brownien' in trajectory_file:\n",
    "\n",
    "    # time step (please check)\n",
    "    dt = 1.52587890625e-05\n",
    "    # read the table\n",
    "    xyt = load_xyt(trajectory_file, columns=['x', 'y', 'H'])\n",
    "    # add missing columns\n",
    "    xyt['n'] = np.ones(xyt.shape[0])\n",
    "    xyt['t'] = np.arange(dt, (xyt.shape[0]+1)*dt, dt)\n",
    "\n",
    "else:\n",
    "\n",
    "    xyt = load_xyt(trajectory_file)\n"
   ]
  },
  {
   "cell_type": "code",
   "execution_count": null,
   "metadata": {},
   "outputs": [],
   "source": [
    "# tessellate\n",
    "\n",
    "analysis_tree = Analyses(xyt)\n",
    "\n",
    "mesh_labels = []\n",
    "\n",
    "for radius in cell_radii:\n",
    "    cells = tessellate(xyt, 'hexagon', ref_distance=radius, min_location_count=0)\n",
    "    analysis_tree.add(cells, label='hexagon_r_{:.2f}'.format(radius))\n",
    "\n",
    "for count in location_counts:\n",
    "    cells = tessellate(xyt, 'kmeans', ref_distance=0, avg_location_count=count,\n",
    "            knn=(round(.75 * count), round(1.25 * count)), prune=False)\n",
    "    analysis_tree.add(cells, label='kmeans_n_{:d}'.format(count))\n"
   ]
  },
  {
   "cell_type": "code",
   "execution_count": null,
   "metadata": {},
   "outputs": [],
   "source": [
    "# save to file\n",
    "\n",
    "save_rwa(rwa_file, analysis_tree)\n"
   ]
  },
  {
   "cell_type": "code",
   "execution_count": null,
   "metadata": {},
   "outputs": [],
   "source": [
    "# or start from here and load the .rwa file\n",
    "\n",
    "analysis_tree = load_rwa(rwa_file)\n"
   ]
  },
  {
   "cell_type": "code",
   "execution_count": null,
   "metadata": {},
   "outputs": [],
   "source": [
    "# play\n",
    "\n",
    "trajectories = analysis_tree.data\n",
    "\n",
    "for mesh_label in analysis_tree.labels:\n",
    "    \n",
    "    cells = analysis_tree[mesh_label].data\n",
    "    \n",
    "    pass\n"
   ]
  }
 ],
 "metadata": {
  "kernelspec": {
   "display_name": "Python 3",
   "language": "python",
   "name": "python3"
  },
  "language_info": {
   "codemirror_mode": {
    "name": "ipython",
    "version": 3
   },
   "file_extension": ".py",
   "mimetype": "text/x-python",
   "name": "python",
   "nbconvert_exporter": "python",
   "pygments_lexer": "ipython3",
   "version": "3.5.2"
  }
 },
 "nbformat": 4,
 "nbformat_minor": 2
}
