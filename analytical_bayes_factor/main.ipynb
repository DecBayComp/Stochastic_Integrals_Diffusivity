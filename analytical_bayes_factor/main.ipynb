{
 "cells": [
  {
   "cell_type": "code",
   "execution_count": 1,
   "metadata": {},
   "outputs": [
    {
     "name": "stdout",
     "output_type": "stream",
     "text": [
      "Using matplotlib backend: TkAgg\n"
     ]
    }
   ],
   "source": [
    "# Magic functions\n",
    "%matplotlib\n",
    "%load_ext autoreload\n",
    "%autoreload 2\n",
    "\n"
   ]
  },
  {
   "cell_type": "code",
   "execution_count": null,
   "metadata": {},
   "outputs": [],
   "source": [
    "%%javascript\n",
    "IPython.OutputArea.prototype._should_scroll = function(lines) {\n",
    "    return false;\n",
    "}"
   ]
  },
  {
   "cell_type": "code",
   "execution_count": 15,
   "metadata": {},
   "outputs": [],
   "source": [
    "from calculate_zeta_t_lims import calculate_zeta_t_lims\n",
    "from calculate_zeta_t_roots import calculate_zeta_t_roots\n",
    "from find_marginalized_zeta_t_roots import find_marginalized_zeta_t_roots\n",
    "import importlib\n",
    "from log_C import log_C as log_C_func\n",
    "import numpy as np\n",
    "from plot_K_L import plot_K_L\n",
    "import sys"
   ]
  },
  {
   "cell_type": "code",
   "execution_count": null,
   "metadata": {},
   "outputs": [],
   "source": [
    "\n",
    "\n",
    "\n",
    "## Constants\n",
    "lambs = (0, 0.5, 1.0)\n",
    "zeta_sp_abs_lim = 5.0\n",
    "zeta_sp_steps = 5000\n",
    "n_pi = 4\n",
    "K = np.exp(3)\n",
    "ns = [100, 30, 10]\n",
    "\n",
    "# zeta_sp mesh\n",
    "zeta_sps = np.linspace(- zeta_sp_abs_lim, zeta_sp_abs_lim, zeta_sp_steps)\n",
    "    \n",
    "# Calculate roots\n",
    "lambs_count = len(lambs)\n",
    "ns_count = len(ns)\n",
    "zeta_t_roots_size = (ns_count, lambs_count + 1, 2, zeta_sp_steps)\n",
    "zeta_t_roots = np.zeros(zeta_t_roots_size, dtype = np.float)\n",
    "\n",
    "for n_ind in range(ns_count):\n",
    "    n = ns[n_ind]\n",
    "    print(\"Processing n: %i/%i\" % (n_ind + 1, ns_count))\n",
    "    \n",
    "    # Check if the requested K_L value can be reached\n",
    "    n0 = n + n_pi\n",
    "    log_C = log_C_func(n_0 = n0, n_pi = n_pi)\n",
    "\n",
    "    if np.log(K) < log_C:\n",
    "        raise ValueError(\"This value of the Bayes factor cannot be achieved for the current parameters\")\n",
    "    \n",
    "    for zeta_ind in range(zeta_sp_steps):\n",
    "        zeta_sp = zeta_sps[zeta_ind]\n",
    "\n",
    "        # Fixed-lambda models\n",
    "        for lamb_ind in range(lambs_count):\n",
    "            lamb = lambs[lamb_ind]\n",
    "\n",
    "            cur_roots = calculate_zeta_t_roots(zeta_sp, lamb, n, n_pi, K)\n",
    "            # Save\n",
    "            zeta_t_roots[n_ind, lamb_ind, 0, zeta_ind] = cur_roots[0]\n",
    "            zeta_t_roots[n_ind, lamb_ind, 1, zeta_ind] = cur_roots[1] \n",
    "\n",
    "        # Marginalized\n",
    "        cur_roots = find_marginalized_zeta_t_roots([zeta_sp], n, n_pi, K)\n",
    "        # Save\n",
    "        zeta_t_roots[n_ind, lambs_count, 0, zeta_ind] = cur_roots[0]\n",
    "        zeta_t_roots[n_ind, lambs_count, 1, zeta_ind] = cur_roots[1]\n",
    "\n",
    "print(\"Calculation terminated\")\n",
    "        \n",
    "# print(zeta_t_roots)\n",
    "\n"
   ]
  },
  {
   "cell_type": "code",
   "execution_count": 7,
   "metadata": {
    "scrolled": false
   },
   "outputs": [
    {
     "ename": "NameError",
     "evalue": "name 'plot_K_L' is not defined",
     "output_type": "error",
     "traceback": [
      "\u001b[1;31m---------------------------------------------------------------------------\u001b[0m",
      "\u001b[1;31mNameError\u001b[0m                                 Traceback (most recent call last)",
      "\u001b[1;32m<ipython-input-7-aa2c7d44d3b7>\u001b[0m in \u001b[0;36m<module>\u001b[1;34m()\u001b[0m\n\u001b[0;32m      1\u001b[0m \u001b[1;31m# Plot\u001b[0m\u001b[1;33m\u001b[0m\u001b[1;33m\u001b[0m\u001b[0m\n\u001b[1;32m----> 2\u001b[1;33m \u001b[0mplot_K_L\u001b[0m\u001b[1;33m(\u001b[0m\u001b[0mzeta_sps\u001b[0m\u001b[1;33m,\u001b[0m \u001b[0mzeta_t_roots\u001b[0m\u001b[1;33m,\u001b[0m \u001b[0mns\u001b[0m\u001b[1;33m)\u001b[0m\u001b[1;33m\u001b[0m\u001b[0m\n\u001b[0m",
      "\u001b[1;31mNameError\u001b[0m: name 'plot_K_L' is not defined"
     ]
    }
   ],
   "source": [
    "# Plot\n",
    "plot_K_L(zeta_sps, zeta_t_roots, ns)"
   ]
  },
  {
   "cell_type": "code",
   "execution_count": null,
   "metadata": {},
   "outputs": [],
   "source": [
    "from find_ito_roots import find_ito_roots\n",
    "find_ito_roots(n_0, n, n_pi)"
   ]
  },
  {
   "cell_type": "code",
   "execution_count": null,
   "metadata": {},
   "outputs": [],
   "source": [
    "from calculate_marginalized_integral import calculate_marginalized_integral\n",
    "calculate_marginalized_integral([0.5], [1], 10, 4)"
   ]
  },
  {
   "cell_type": "code",
   "execution_count": null,
   "metadata": {},
   "outputs": [],
   "source": []
  },
  {
   "cell_type": "code",
   "execution_count": null,
   "metadata": {},
   "outputs": [],
   "source": [
    "y = [-1, 1]"
   ]
  },
  {
   "cell_type": "code",
   "execution_count": null,
   "metadata": {},
   "outputs": [],
   "source": [
    "print (K)"
   ]
  },
  {
   "cell_type": "code",
   "execution_count": 31,
   "metadata": {},
   "outputs": [],
   "source": [
    "from find_marginalized_zeta_sp_limit import find_marginalized_zeta_sp_limit\n",
    "\n",
    "Ks = np.exp([-3, 0, 3])\n",
    "n_max = 200\n",
    "ns = range(1, n_max + 1)\n",
    "\n",
    "Ks_count = len(Ks)\n",
    "\n",
    "zeta_sp_borders = np.zeros((Ks_count, n_max), dtype = np.float)\n",
    "\n",
    "# Calculate roots for different n and K\n",
    "for K_ind in range(Ks_count):\n",
    "    K = Ks[K_ind]\n",
    "    for n_ind in range(n_max):\n",
    "        n = ns[n_ind]\n",
    "        zeta_sp_borders[K_ind, n_ind] = find_marginalized_zeta_sp_limit(n = n, n_pi = 4, K = K)\n",
    "# print(zeta_sp_borders)\n"
   ]
  },
  {
   "cell_type": "code",
   "execution_count": 32,
   "metadata": {},
   "outputs": [],
   "source": [
    "from plot_zeta_sp_borders import plot_zeta_sp_borders\n",
    "plot_zeta_sp_borders(ns, zeta_sp_borders)"
   ]
  },
  {
   "cell_type": "code",
   "execution_count": null,
   "metadata": {},
   "outputs": [],
   "source": []
  }
 ],
 "metadata": {
  "kernelspec": {
   "display_name": "Python 3",
   "language": "python",
   "name": "python3"
  },
  "language_info": {
   "codemirror_mode": {
    "name": "ipython",
    "version": 3
   },
   "file_extension": ".py",
   "mimetype": "text/x-python",
   "name": "python",
   "nbconvert_exporter": "python",
   "pygments_lexer": "ipython3",
   "version": "3.6.4"
  }
 },
 "nbformat": 4,
 "nbformat_minor": 2
}
