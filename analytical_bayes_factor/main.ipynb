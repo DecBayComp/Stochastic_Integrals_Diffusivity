{
 "cells": [
  {
   "cell_type": "code",
   "execution_count": 1,
   "metadata": {},
   "outputs": [
    {
     "name": "stdout",
     "output_type": "stream",
     "text": [
      "Using matplotlib backend: TkAgg\n"
     ]
    }
   ],
   "source": [
    "# Magic functions\n",
    "%matplotlib\n",
    "%load_ext autoreload\n",
    "%autoreload 2\n",
    "\n",
    "# %%javascript\n",
    "# IPython.OutputArea.prototype._should_scroll = function(lines) {\n",
    "#     return false;\n",
    "# }"
   ]
  },
  {
   "cell_type": "code",
   "execution_count": 2,
   "metadata": {},
   "outputs": [
    {
     "name": "stdout",
     "output_type": "stream",
     "text": [
      "Zeta_t limits:  [-0.96485749  0.96485749]\n",
      "[5.         4.78762408 4.57524816 4.36287223 4.15049631 3.93812039\n",
      " 3.72574447 3.51336855 3.30099263 3.0886167  2.87624078 2.66386486\n",
      " 2.45148894 2.23911302 2.02673709 1.81436117 1.60198525 1.38960933\n",
      " 1.17723341 0.96485749]\n",
      "[ 9.38213288  8.98466241  8.58724349  8.18988396  7.7925934   7.3953836\n",
      "  6.99826926  6.60126894  6.20440649  5.8077131   5.41123044  5.0150156\n",
      "  4.61914934  4.22375029  3.82900163  3.43520558  3.04291046  2.65327129\n",
      "  2.26952002  1.92971497  2.43941361  2.90516603  3.36503054  3.82223911\n",
      "  4.27794675  4.73270177  5.18680641  5.64044384  6.09373269  6.54675371\n",
      "  6.99956401  7.45220525  7.90470862  8.35709796  8.80939185  9.26160498\n",
      "  9.71374914 10.1658339  10.61786712]\n"
     ]
    }
   ],
   "source": [
    "from calculate_zeta_t_lims import calculate_zeta_t_lims\n",
    "from calculate_zeta_sp_roots import calculate_zeta_sp_roots\n",
    "import importlib\n",
    "import numpy as np\n",
    "from plot_K_L import plot_K_L\n",
    "import sys\n",
    "\n",
    "\n",
    "## Constants\n",
    "lambs = (0.5, 1.0)\n",
    "zeta_t_abs_lim = 5\n",
    "zeta_t_steps = 20 # defines scale, true number is ~4 times larger\n",
    "n_pi = 4\n",
    "# K_L_level = 1 # not used\n",
    "n = 1000\n",
    "\n",
    "\n",
    "# Calculate zeta_t border for lambda > 0\n",
    "n_0 = n + n_pi\n",
    "[zeta_t_internal_lims, bl_lims_exist] = calculate_zeta_t_lims(n_0, n, n_pi)\n",
    "\n",
    "zeta_t_points_abs = []\n",
    "if bl_lims_exist:\n",
    "    # If limits exist, there are two disconnected regions\n",
    "    # A decreasing sequence\n",
    "    zeta_t_points_abs = np.linspace(zeta_t_abs_lim, zeta_t_internal_lims[1], zeta_t_steps)\n",
    "    \n",
    "# else:\n",
    "#     # There is one connected region\n",
    "#     zeta_t_points = np.linspace(-zeta_t_abs_lim, zeta_t_abs_lim, zeta_t_steps)\n",
    "print(\"Zeta_t limits: \", zeta_t_internal_lims)\n",
    "\n",
    "\n",
    "\n",
    "# Calculate roots\n",
    "lambs_count = len(lambs)\n",
    "zeta_sp_roots_size = (lambs_count, 2 * zeta_t_steps - 1)\n",
    "zeta_sp_roots = np.zeros(zeta_sp_roots_size, dtype = np.float)\n",
    "\n",
    "for lamb_ind in range(lambs_count):\n",
    "    lamb = lambs[lamb_ind]\n",
    "\n",
    "    # Not on zeta_t borders\n",
    "    for zeta_ind in range(zeta_t_steps - 1):\n",
    "\n",
    "        zeta_t = zeta_t_points_abs[zeta_ind]\n",
    "#         print(zeta_t)\n",
    "        cur_roots = calculate_zeta_sp_roots(zeta_t, lamb, n_0, n, n_pi)\n",
    "        zeta_sp_roots[lamb_ind, zeta_ind] = cur_roots[0]\n",
    "        zeta_sp_roots[lamb_ind, -1 - zeta_ind] = cur_roots[1]\n",
    "        \n",
    "    # Treat the middle point in a special way\n",
    "    zeta_sp_roots[lamb_ind, zeta_t_steps - 1] = zeta_t_points_abs[-1] / lamb\n",
    "    # zeta_sp_roots[-1, lamb_ind, :] = zeta_t_points[-1] / lamb\n",
    "\n",
    "print(zeta_t_points_abs)\n",
    "print(zeta_sp_roots[0, :])"
   ]
  },
  {
   "cell_type": "code",
   "execution_count": 3,
   "metadata": {
    "scrolled": false
   },
   "outputs": [
    {
     "name": "stdout",
     "output_type": "stream",
     "text": [
      "[5.         4.78762408 4.57524816 4.36287223 4.15049631 3.93812039\n",
      " 3.72574447 3.51336855 3.30099263 3.0886167  2.87624078 2.66386486\n",
      " 2.45148894 2.23911302 2.02673709 1.81436117 1.60198525 1.38960933\n",
      " 1.17723341 0.96485749]\n",
      "[1.17723341 1.38960933 1.60198525 1.81436117 2.02673709 2.23911302\n",
      " 2.45148894 2.66386486 2.87624078 3.0886167  3.30099263 3.51336855\n",
      " 3.72574447 3.93812039 4.15049631 4.36287223 4.57524816 4.78762408\n",
      " 5.        ]\n"
     ]
    }
   ],
   "source": [
    "# Plot\n",
    "plot_K_L(zeta_t_points_abs, zeta_sp_roots)"
   ]
  },
  {
   "cell_type": "code",
   "execution_count": 4,
   "metadata": {},
   "outputs": [
    {
     "name": "stdout",
     "output_type": "stream",
     "text": [
      "[-3.67692399e-03 -1.37990164e-02 -4.41652938e-02 -9.47757562e-02\n",
      " -1.65630404e-01 -2.56729236e-01 -3.68072254e-01 -4.99659456e-01\n",
      " -6.51490845e-01 -8.23566418e-01 -1.01588618e+00 -1.22845012e+00\n",
      " -1.46125825e+00 -1.71431057e+00 -1.98760708e+00 -2.28114777e+00\n",
      " -2.59493265e+00 -2.92896171e+00 -3.28323497e+00 -3.65775241e+00\n",
      " -4.05251404e+00 -4.46751985e+00 -4.90276986e+00 -5.35826406e+00\n",
      " -5.83400245e+00 -6.32998503e+00 -6.84621179e+00 -7.38268275e+00\n",
      " -7.93939791e+00 -8.51635725e+00 -9.11356079e+00 -9.73100852e+00\n",
      " -1.03687004e+01 -1.10266366e+01 -1.17048169e+01 -1.24032414e+01\n",
      " -1.31219101e+01 -1.38608230e+01 -1.46199801e+01 -1.53993814e+01\n",
      " -1.61990269e+01 -1.70189166e+01 -1.78590505e+01 -1.87194286e+01\n",
      " -1.96000509e+01 -2.05009174e+01 -2.14220281e+01 -2.23633830e+01\n",
      " -2.33249821e+01 -2.43068255e+01 -2.53089130e+01 -2.63312447e+01\n",
      " -2.73738207e+01 -2.84366408e+01 -2.95197052e+01 -3.06230138e+01\n",
      " -3.17465666e+01 -3.28903636e+01 -3.40544048e+01 -3.52386902e+01\n",
      " -3.64432198e+01 -3.76679937e+01 -3.89130118e+01 -4.01782741e+01\n",
      " -4.14637806e+01 -4.27695313e+01 -4.40955263e+01 -4.54417655e+01\n",
      " -4.68082489e+01 -4.81949765e+01 -4.96019483e+01 -5.10291644e+01\n",
      " -5.24766247e+01 -5.39443292e+01 -5.54322780e+01 -5.69404710e+01\n",
      " -5.84689082e+01 -6.00175897e+01 -6.15865154e+01 -6.31756853e+01\n",
      " -6.47850994e+01 -6.64147578e+01 -6.80646605e+01 -6.97348073e+01\n",
      " -7.14251984e+01 -7.31358338e+01 -7.48667134e+01 -7.66178372e+01\n",
      " -7.83892053e+01 -8.01808176e+01 -8.19926742e+01 -8.38247750e+01\n",
      " -8.56771201e+01 -8.75497094e+01 -8.94425430e+01 -9.13556208e+01\n",
      " -9.32889429e+01 -9.52425092e+01 -9.72163198e+01 -9.92103746e+01]\n"
     ]
    }
   ],
   "source": [
    "from find_ito_roots import find_ito_roots\n",
    "find_ito_roots(n_0, n, n_pi)"
   ]
  },
  {
   "cell_type": "code",
   "execution_count": 17,
   "metadata": {},
   "outputs": [
    {
     "data": {
      "text/plain": [
       "[(0.742216855240441, 8.240262419528144e-15)]"
      ]
     },
     "execution_count": 17,
     "metadata": {},
     "output_type": "execute_result"
    }
   ],
   "source": [
    "from calculate_marginalized_integral import calculate_marginalized_integral\n",
    "calculate_marginalized_integral([0.5], [1], 10, 4)"
   ]
  },
  {
   "cell_type": "code",
   "execution_count": null,
   "metadata": {},
   "outputs": [],
   "source": []
  }
 ],
 "metadata": {
  "kernelspec": {
   "display_name": "Python 3",
   "language": "python",
   "name": "python3"
  },
  "language_info": {
   "codemirror_mode": {
    "name": "ipython",
    "version": 3
   },
   "file_extension": ".py",
   "mimetype": "text/x-python",
   "name": "python",
   "nbconvert_exporter": "python",
   "pygments_lexer": "ipython3",
   "version": "3.6.4"
  }
 },
 "nbformat": 4,
 "nbformat_minor": 2
}
