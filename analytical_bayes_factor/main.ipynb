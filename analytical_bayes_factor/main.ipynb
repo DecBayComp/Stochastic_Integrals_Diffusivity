{
 "cells": [
  {
   "cell_type": "code",
   "execution_count": 49,
   "metadata": {},
   "outputs": [
    {
     "ename": "SyntaxError",
     "evalue": "invalid syntax (<ipython-input-49-6758d777419a>, line 6)",
     "output_type": "error",
     "traceback": [
      "\u001b[1;36m  File \u001b[1;32m\"<ipython-input-49-6758d777419a>\"\u001b[1;36m, line \u001b[1;32m6\u001b[0m\n\u001b[1;33m    %%javascript\u001b[0m\n\u001b[1;37m    ^\u001b[0m\n\u001b[1;31mSyntaxError\u001b[0m\u001b[1;31m:\u001b[0m invalid syntax\n"
     ]
    }
   ],
   "source": [
    "# Magic functions\n",
    "%matplotlib\n",
    "%load_ext autoreload\n",
    "%autoreload 2\n",
    "\n",
    "%%javascript\n",
    "IPython.OutputArea.prototype._should_scroll = function(lines) {\n",
    "    return false;\n",
    "}"
   ]
  },
  {
   "cell_type": "code",
   "execution_count": 64,
   "metadata": {},
   "outputs": [
    {
     "name": "stdout",
     "output_type": "stream",
     "text": [
      "[[[-0.22117904 -0.22117904 -0.22117904 ... -0.22117904 -0.22117904\n",
      "   -0.22117904]\n",
      "  [ 0.22117904  0.22117904  0.22117904 ...  0.22117904  0.22117904\n",
      "    0.22117904]]\n",
      "\n",
      " [[-2.22117904 -2.21717503 -2.21317103 ...  1.77081296  1.77481696\n",
      "    1.77882096]\n",
      "  [-1.77882096 -1.77481696 -1.77081296 ...  2.21317103  2.21717503\n",
      "    2.22117904]]\n",
      "\n",
      " [[-4.22117904 -4.21317103 -4.20516302 ...  3.76280495  3.77081296\n",
      "    3.77882096]\n",
      "  [-3.77882096 -3.77081296 -3.76280495 ...  4.20516302  4.21317103\n",
      "    4.22117904]]\n",
      "\n",
      " [[        nan         nan         nan ...         nan         nan\n",
      "           nan]\n",
      "  [        nan         nan         nan ...         nan         nan\n",
      "           nan]]]\n"
     ]
    }
   ],
   "source": [
    "from calculate_zeta_t_lims import calculate_zeta_t_lims\n",
    "from calculate_zeta_t_roots import calculate_zeta_t_roots\n",
    "from find_marginalized_zeta_t_roots import find_marginalized_zeta_t_roots\n",
    "import importlib\n",
    "from log_C import log_C as log_C_func\n",
    "import numpy as np\n",
    "from plot_K_L import plot_K_L\n",
    "import sys\n",
    "\n",
    "\n",
    "## Constants\n",
    "lambs = (0, 0.5, 1.0)\n",
    "zeta_sp_abs_lim = 4.0\n",
    "zeta_sp_steps = 1000\n",
    "n_pi = 4\n",
    "K = 1.0\n",
    "n = 100\n",
    "\n",
    "# Check if the requested K_L value can be reached\n",
    "n0 = n + n_pi\n",
    "log_C = log_C_func(n_0 = n0, n_pi = n_pi)\n",
    "\n",
    "if np.log(K) < log_C:\n",
    "    raise ValueError(\"This value of the Bayes factor cannot be achieved for the current parameters\")\n",
    "    \n",
    "# zeta_sp mesh\n",
    "zeta_sps = np.linspace(- zeta_sp_abs_lim, zeta_sp_abs_lim, zeta_sp_steps)\n",
    "    \n",
    "# Calculate roots\n",
    "lambs_count = len(lambs)\n",
    "zeta_t_roots_size = (lambs_count + 1, 2, zeta_sp_steps)\n",
    "zeta_t_roots = np.zeros(zeta_t_roots_size, dtype = np.float)\n",
    "\n",
    "for zeta_ind in range(zeta_sp_steps):\n",
    "    zeta_sp = zeta_sps[zeta_ind]\n",
    "\n",
    "    # Fixed-lambda models\n",
    "    for lamb_ind in range(lambs_count):\n",
    "        lamb = lambs[lamb_ind]\n",
    "    \n",
    "        cur_roots = calculate_zeta_t_roots(zeta_sp, lamb, n, n_pi, K)\n",
    "        # Save\n",
    "        zeta_t_roots[lamb_ind, 0, zeta_ind] = cur_roots[0]\n",
    "        zeta_t_roots[lamb_ind, 1, zeta_ind] = cur_roots[1]\n",
    "        \n",
    "    # Marginalized\n",
    "    cur_roots = find_marginalized_zeta_t_roots([zeta_sp], n, n_pi, K)\n",
    "    # Save\n",
    "    zeta_t_roots[3, 0, zeta_ind] = cur_roots[0]\n",
    "    zeta_t_roots[3, 1, zeta_ind] = cur_roots[1]\n",
    "\n",
    "print(zeta_t_roots)\n",
    "\n"
   ]
  },
  {
   "cell_type": "code",
   "execution_count": 65,
   "metadata": {
    "scrolled": false
   },
   "outputs": [],
   "source": [
    "# Plot\n",
    "plot_K_L(zeta_sps, zeta_t_roots)"
   ]
  },
  {
   "cell_type": "code",
   "execution_count": null,
   "metadata": {},
   "outputs": [],
   "source": [
    "from find_ito_roots import find_ito_roots\n",
    "find_ito_roots(n_0, n, n_pi)"
   ]
  },
  {
   "cell_type": "code",
   "execution_count": null,
   "metadata": {},
   "outputs": [],
   "source": [
    "from calculate_marginalized_integral import calculate_marginalized_integral\n",
    "calculate_marginalized_integral([0.5], [1], 10, 4)"
   ]
  },
  {
   "cell_type": "code",
   "execution_count": null,
   "metadata": {},
   "outputs": [],
   "source": []
  },
  {
   "cell_type": "code",
   "execution_count": null,
   "metadata": {},
   "outputs": [],
   "source": [
    "y = [-1, 1]"
   ]
  },
  {
   "cell_type": "code",
   "execution_count": null,
   "metadata": {},
   "outputs": [],
   "source": [
    "y\n"
   ]
  },
  {
   "cell_type": "code",
   "execution_count": null,
   "metadata": {},
   "outputs": [],
   "source": [
    "from find_marginalized_zeta_t_roots import find_marginalized_zeta_t_roots\n",
    "find_marginalized_zeta_t_roots([0.5], 100, 4, 1)"
   ]
  }
 ],
 "metadata": {
  "kernelspec": {
   "display_name": "Python 3",
   "language": "python",
   "name": "python3"
  },
  "language_info": {
   "codemirror_mode": {
    "name": "ipython",
    "version": 3
   },
   "file_extension": ".py",
   "mimetype": "text/x-python",
   "name": "python",
   "nbconvert_exporter": "python",
   "pygments_lexer": "ipython3",
   "version": "3.6.4"
  }
 },
 "nbformat": 4,
 "nbformat_minor": 2
}
