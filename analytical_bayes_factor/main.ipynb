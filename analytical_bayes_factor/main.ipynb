{
 "cells": [
  {
   "cell_type": "code",
   "execution_count": 5,
   "metadata": {},
   "outputs": [
    {
     "ename": "SyntaxError",
     "evalue": "invalid syntax (<ipython-input-5-6758d777419a>, line 6)",
     "output_type": "error",
     "traceback": [
      "\u001b[1;36m  File \u001b[1;32m\"<ipython-input-5-6758d777419a>\"\u001b[1;36m, line \u001b[1;32m6\u001b[0m\n\u001b[1;33m    %%javascript\u001b[0m\n\u001b[1;37m    ^\u001b[0m\n\u001b[1;31mSyntaxError\u001b[0m\u001b[1;31m:\u001b[0m invalid syntax\n"
     ]
    }
   ],
   "source": [
    "# Magic functions\n",
    "%matplotlib\n",
    "%load_ext autoreload\n",
    "%autoreload 2\n",
    "\n",
    "# %%javascript\n",
    "# IPython.OutputArea.prototype._should_scroll = function(lines) {\n",
    "#     return false;\n",
    "# }"
   ]
  },
  {
   "cell_type": "code",
   "execution_count": 112,
   "metadata": {},
   "outputs": [
    {
     "name": "stdout",
     "output_type": "stream",
     "text": [
      "Zeta_t limits:  [-0.96485749  0.96485749]\n",
      "[5.         4.78762408 4.57524816 4.36287223 4.15049631 3.93812039\n",
      " 3.72574447 3.51336855 3.30099263 3.0886167  2.87624078 2.66386486\n",
      " 2.45148894 2.23911302 2.02673709 1.81436117 1.60198525 1.38960933\n",
      " 1.17723341 0.96485749]\n",
      "[ 9.38213288  8.98466241  8.58724349  8.18988396  7.7925934   7.3953836\n",
      "  6.99826926  6.60126894  6.20440649  5.8077131   5.41123044  5.0150156\n",
      "  4.61914934  4.22375029  3.82900163  3.43520558  3.04291046  2.65327129\n",
      "  2.26952002  1.92971497  2.43941361  2.90516603  3.36503054  3.82223911\n",
      "  4.27794675  4.73270177  5.18680641  5.64044384  6.09373269  6.54675371\n",
      "  6.99956401  7.45220525  7.90470862  8.35709796  8.80939185  9.26160498\n",
      "  9.71374914 10.1658339  10.61786712]\n"
     ]
    }
   ],
   "source": [
    "from calculate_zeta_t_lims import calculate_zeta_t_lims\n",
    "from calculate_zeta_sp_roots import calculate_zeta_sp_roots\n",
    "import importlib\n",
    "import numpy as np\n",
    "from plot_K_L import plot_K_L\n",
    "import sys\n",
    "\n",
    "\n",
    "## Constants\n",
    "lambs = (0.5, 1.0)\n",
    "zeta_t_abs_lim = 5\n",
    "zeta_t_steps = 20 # defines scale, true number is ~4 times larger\n",
    "n_pi = 4\n",
    "# K_L_level = 1 # not used\n",
    "n = 1000\n",
    "\n",
    "\n",
    "# Calculate zeta_t border for lambda > 0\n",
    "n_0 = n + n_pi\n",
    "[zeta_t_internal_lims, bl_lims_exist] = calculate_zeta_t_lims(n_0, n, n_pi)\n",
    "\n",
    "zeta_t_points_abs = []\n",
    "if bl_lims_exist:\n",
    "    # If limits exist, there are two disconnected regions\n",
    "    # A decreasing sequence\n",
    "    zeta_t_points_abs = np.linspace(zeta_t_abs_lim, zeta_t_internal_lims[1], zeta_t_steps)\n",
    "    \n",
    "# else:\n",
    "#     # There is one connected region\n",
    "#     zeta_t_points = np.linspace(-zeta_t_abs_lim, zeta_t_abs_lim, zeta_t_steps)\n",
    "print(\"Zeta_t limits: \", zeta_t_internal_lims)\n",
    "\n",
    "\n",
    "\n",
    "# Calculate roots\n",
    "lambs_count = len(lambs)\n",
    "zeta_sp_roots_size = (lambs_count, 2 * zeta_t_steps - 1)\n",
    "zeta_sp_roots = np.zeros(zeta_sp_roots_size, dtype = np.float)\n",
    "\n",
    "for lamb_ind in range(lambs_count):\n",
    "    lamb = lambs[lamb_ind]\n",
    "\n",
    "    # Not on zeta_t borders\n",
    "    for zeta_ind in range(zeta_t_steps - 1):\n",
    "\n",
    "        zeta_t = zeta_t_points_abs[zeta_ind]\n",
    "#         print(zeta_t)\n",
    "        cur_roots = calculate_zeta_sp_roots(zeta_t, lamb, n_0, n, n_pi)\n",
    "        zeta_sp_roots[lamb_ind, zeta_ind] = cur_roots[0]\n",
    "        zeta_sp_roots[lamb_ind, -1 - zeta_ind] = cur_roots[1]\n",
    "        \n",
    "    # Treat the middle point in a special way\n",
    "    zeta_sp_roots[lamb_ind, zeta_t_steps - 1] = zeta_t_points_abs[-1] / lamb\n",
    "    # zeta_sp_roots[-1, lamb_ind, :] = zeta_t_points[-1] / lamb\n",
    "\n",
    "print(zeta_t_points_abs)\n",
    "print(zeta_sp_roots[0, :])"
   ]
  },
  {
   "cell_type": "code",
   "execution_count": 113,
   "metadata": {
    "scrolled": false
   },
   "outputs": [
    {
     "name": "stdout",
     "output_type": "stream",
     "text": [
      "[5.         4.78762408 4.57524816 4.36287223 4.15049631 3.93812039\n",
      " 3.72574447 3.51336855 3.30099263 3.0886167  2.87624078 2.66386486\n",
      " 2.45148894 2.23911302 2.02673709 1.81436117 1.60198525 1.38960933\n",
      " 1.17723341 0.96485749]\n",
      "[1.17723341 1.38960933 1.60198525 1.81436117 2.02673709 2.23911302\n",
      " 2.45148894 2.66386486 2.87624078 3.0886167  3.30099263 3.51336855\n",
      " 3.72574447 3.93812039 4.15049631 4.36287223 4.57524816 4.78762408\n",
      " 5.        ]\n"
     ]
    }
   ],
   "source": [
    "# Plot\n",
    "plot_K_L(zeta_t_points_abs, zeta_sp_roots)"
   ]
  },
  {
   "cell_type": "code",
   "execution_count": 100,
   "metadata": {},
   "outputs": [
    {
     "name": "stdout",
     "output_type": "stream",
     "text": [
      "[-1.51889353e-02 -2.36537880e-02 -4.90484433e-02 -9.13731930e-02\n",
      " -1.50628521e-01 -2.26815097e-01 -3.19933775e-01 -4.29985583e-01\n",
      " -5.56971715e-01 -7.00893525e-01 -8.61752512e-01 -1.03955031e+00\n",
      " -1.23428869e+00 -1.44596952e+00 -1.67459478e+00 -1.92016653e+00\n",
      " -2.18268694e+00 -2.46215821e+00 -2.75858262e+00 -3.07196249e+00\n",
      " -3.40230018e+00 -3.74959808e+00 -4.11385860e+00 -4.49508416e+00\n",
      " -4.89327720e+00 -5.30844013e+00 -5.74057539e+00 -6.18968539e+00\n",
      " -6.65577253e+00 -7.13883918e+00 -7.63888771e+00 -8.15592044e+00\n",
      " -8.68993968e+00 -9.24094770e+00 -9.80894675e+00 -1.03939390e+01\n",
      " -1.09959267e+01 -1.16149120e+01 -1.22508969e+01 -1.29038836e+01\n",
      " -1.35738740e+01 -1.42608702e+01 -1.49648741e+01 -1.56858877e+01\n",
      " -1.64239129e+01 -1.71789514e+01 -1.79510052e+01 -1.87400760e+01\n",
      " -1.95461656e+01 -2.03692757e+01 -2.12094079e+01 -2.20665640e+01\n",
      " -2.29407456e+01 -2.38319543e+01 -2.47401915e+01 -2.56654590e+01\n",
      " -2.66077582e+01 -2.75670905e+01 -2.85434574e+01 -2.95368604e+01\n",
      " -3.05473008e+01 -3.15747801e+01 -3.26192996e+01 -3.36808605e+01\n",
      " -3.47594644e+01 -3.58551123e+01 -3.69678056e+01 -3.80975455e+01\n",
      " -3.92443333e+01 -4.04081701e+01 -4.15890572e+01 -4.27869956e+01\n",
      " -4.40019866e+01 -4.52340312e+01 -4.64831307e+01 -4.77492860e+01\n",
      " -4.90324982e+01 -5.03327684e+01 -5.16500977e+01 -5.29844870e+01\n",
      " -5.43359375e+01 -5.57044500e+01 -5.70900256e+01 -5.84926652e+01\n",
      " -5.99123698e+01 -6.13491404e+01 -6.28029778e+01 -6.42738830e+01\n",
      " -6.57618569e+01 -6.72669004e+01 -6.87890144e+01 -7.03281997e+01\n",
      " -7.18844572e+01 -7.34577878e+01 -7.50481922e+01 -7.66556714e+01\n",
      " -7.82802261e+01 -7.99218571e+01 -8.15805653e+01 -8.32563513e+01]\n"
     ]
    }
   ],
   "source": [
    "from find_ito_roots import find_ito_roots\n",
    "find_ito_roots(n_0, n, n_pi)"
   ]
  },
  {
   "cell_type": "code",
   "execution_count": null,
   "metadata": {},
   "outputs": [],
   "source": []
  }
 ],
 "metadata": {
  "kernelspec": {
   "display_name": "Python 3",
   "language": "python",
   "name": "python3"
  }
 },
 "nbformat": 4,
 "nbformat_minor": 2
}
