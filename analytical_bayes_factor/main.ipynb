{
 "cells": [
  {
   "cell_type": "code",
   "execution_count": 1,
   "metadata": {},
   "outputs": [
    {
     "name": "stdout",
     "output_type": "stream",
     "text": [
      "Using matplotlib backend: TkAgg\n"
     ]
    }
   ],
   "source": [
    "# Magic functions\n",
    "%matplotlib\n",
    "%load_ext autoreload\n",
    "%autoreload 2\n",
    "\n"
   ]
  },
  {
   "cell_type": "code",
   "execution_count": 2,
   "metadata": {},
   "outputs": [
    {
     "data": {
      "application/javascript": [
       "IPython.OutputArea.prototype._should_scroll = function(lines) {\n",
       "    return false;\n",
       "}"
      ],
      "text/plain": [
       "<IPython.core.display.Javascript object>"
      ]
     },
     "metadata": {},
     "output_type": "display_data"
    }
   ],
   "source": [
    "%%javascript\n",
    "IPython.OutputArea.prototype._should_scroll = function(lines) {\n",
    "    return false;\n",
    "}"
   ]
  },
  {
   "cell_type": "code",
   "execution_count": 3,
   "metadata": {},
   "outputs": [],
   "source": [
    "from calculate_zeta_t_lims import calculate_zeta_t_lims\n",
    "from calculate_zeta_t_roots import calculate_zeta_t_roots\n",
    "from find_marginalized_zeta_t_roots import find_marginalized_zeta_t_roots\n",
    "import importlib\n",
    "from log_C import log_C as log_C_func\n",
    "import numpy as np\n",
    "from plot_K_L import plot_K_L\n",
    "import sys"
   ]
  },
  {
   "cell_type": "code",
   "execution_count": 42,
   "metadata": {},
   "outputs": [
    {
     "name": "stdout",
     "output_type": "stream",
     "text": [
      "Processing v: 1/3, n: 1/3\n",
      "Processing v: 1/3, n: 2/3\n",
      "Processing v: 1/3, n: 3/3\n",
      "Processing v: 2/3, n: 1/3\n",
      "Processing v: 2/3, n: 2/3\n",
      "Processing v: 2/3, n: 3/3\n",
      "Processing v: 3/3, n: 1/3\n",
      "Processing v: 3/3, n: 2/3\n",
      "Processing v: 3/3, n: 3/3\n",
      "Calculation terminated\n"
     ]
    }
   ],
   "source": [
    "\n",
    "\n",
    "\n",
    "## Constants\n",
    "lambs = (0, 0.5, 1.0)\n",
    "zeta_sp_abs_lim = 5.0\n",
    "zeta_sp_steps = 100\n",
    "dim = 1\n",
    "n_pi = 4\n",
    "ns = [100, 30, 10]\n",
    "B = 10 # at least strong evidence against H0\n",
    "\n",
    "# Relative prior uncertainties\n",
    "# vs = [1, 2] \n",
    "vs = [1, 5, 10] \n",
    "\n",
    "\n",
    "log10_B = np.log10(B)\n",
    "\n",
    "# Estimate the extent of Bayes factors for the given n, n_pi. Using logs base 10\n",
    "ns = np.transpose(np.asarray(ns))\n",
    "etas = np.sqrt(n_pi / (ns + n_pi))\n",
    "if dim == 1:\n",
    "    low_lims = np.log10(etas)\n",
    "    pows = -ns - n_pi + 4\n",
    "    upper_lims = np.multiply(pows, np.log10(etas))\n",
    "elif dim == 2:\n",
    "    low_lims = 2 * np.log10(etas)\n",
    "    pows = 8 - 2 * (ns + n_pi)\n",
    "    upper_lims = np.multiply(pows, np.log10(etas))\n",
    "    \n",
    "log10_B_lims = np.stack((low_lims, upper_lims), axis = 1)\n",
    "# print(log10_B_lims)\n",
    "# print(10**log10_B_lims)\n",
    "\n",
    "\n",
    "# Create zeta_sp mesh\n",
    "zeta_sps = np.linspace(- zeta_sp_abs_lim, zeta_sp_abs_lim, zeta_sp_steps)\n",
    "    \n",
    "# Calculate roots\n",
    "lambs_count = len(lambs)\n",
    "ns_count = len(ns)\n",
    "vs_count = len(vs)\n",
    "zeta_t_roots_size = (vs_count, ns_count, lambs_count + 1, 2, zeta_sp_steps)\n",
    "zeta_t_roots = np.zeros(zeta_t_roots_size, dtype = np.float)\n",
    "\n",
    "\n",
    "for v_ind in range(vs_count):\n",
    "    v = vs[v_ind]\n",
    "    \n",
    "    for n_ind in range(ns_count):\n",
    "        n = ns[n_ind]\n",
    "        print(\"Processing v: %i/%i, n: %i/%i\" % (v_ind + 1, vs_count, n_ind + 1, ns_count))\n",
    "\n",
    "        # Check if the requested Bayes facto can be reached\n",
    "        bl_reachable = log10_B >= log10_B_lims[n_ind, 0] and log10_B <= log10_B_lims[n_ind, 1]\n",
    "\n",
    "        if not bl_reachable:\n",
    "            raise ValueError(\"The value of the Bayes factor (B = %.3g) cannot be achieved for the current parameters. Bayes factor limits: [%.3g; %.3g]\" \n",
    "                             % (10 ** log10_B, 10 ** log10_B_lims[n_ind, 0], 10 ** log10_B_lims[n_ind, 1]))\n",
    "\n",
    "        for zeta_ind in range(zeta_sp_steps):\n",
    "            zeta_sp = zeta_sps[zeta_ind]\n",
    "\n",
    "            # Fixed-lambda models\n",
    "            for lamb_ind in range(lambs_count):\n",
    "                lamb = lambs[lamb_ind]\n",
    "\n",
    "                cur_roots = calculate_zeta_t_roots(zeta_sp = zeta_sp, lamb = lamb, n = n, n_pi = n_pi, B = B, v = v,\n",
    "                                                   dim = dim)\n",
    "                # Save\n",
    "                zeta_t_roots[v_ind, n_ind, lamb_ind, 0, zeta_ind] = cur_roots[0]\n",
    "                zeta_t_roots[v_ind, n_ind, lamb_ind, 1, zeta_ind] = cur_roots[1] \n",
    "\n",
    "            # Marginalized\n",
    "            cur_roots = find_marginalized_zeta_t_roots([zeta_sp], n, n_pi, B, v, dim = dim)\n",
    "            # Save\n",
    "            zeta_t_roots[v_ind, n_ind, lambs_count, 0, zeta_ind] = cur_roots[0]\n",
    "            zeta_t_roots[v_ind, n_ind, lambs_count, 1, zeta_ind] = cur_roots[1]\n",
    "\n",
    "print(\"Calculation terminated\")\n",
    "        \n",
    "# print(zeta_t_roots)\n",
    "\n"
   ]
  },
  {
   "cell_type": "code",
   "execution_count": 43,
   "metadata": {
    "scrolled": false
   },
   "outputs": [],
   "source": [
    "# Plot\n",
    "plot_K_L(zeta_sps, zeta_t_roots, ns, vs, dim = dim)"
   ]
  },
  {
   "cell_type": "code",
   "execution_count": null,
   "metadata": {},
   "outputs": [],
   "source": [
    "from find_ito_roots import find_ito_roots\n",
    "find_ito_roots(n_0, n, n_pi)"
   ]
  },
  {
   "cell_type": "code",
   "execution_count": null,
   "metadata": {},
   "outputs": [],
   "source": [
    "from calculate_marginalized_integral import calculate_marginalized_integral\n",
    "calculate_marginalized_integral([0.5], [1], 10, 4)"
   ]
  },
  {
   "cell_type": "code",
   "execution_count": null,
   "metadata": {},
   "outputs": [],
   "source": [
    "2D: [[ -1.41497335 141.4973348 ]\n",
    " [ -0.92941893  27.88256777]\n",
    " [ -0.54406804   5.44068044]]\n",
    "    \n",
    "1D: [[-0.70748667 70.7486674 ]\n",
    " [-0.46470946 13.94128389]\n",
    " [-0.27203402  2.72034022]]\n",
    "    "
   ]
  },
  {
   "cell_type": "code",
   "execution_count": null,
   "metadata": {},
   "outputs": [],
   "source": []
  },
  {
   "cell_type": "code",
   "execution_count": null,
   "metadata": {},
   "outputs": [],
   "source": [
    "y = [-1, 1]"
   ]
  },
  {
   "cell_type": "code",
   "execution_count": null,
   "metadata": {},
   "outputs": [],
   "source": [
    "print (K)"
   ]
  },
  {
   "cell_type": "code",
   "execution_count": 31,
   "metadata": {},
   "outputs": [],
   "source": [
    "from find_marginalized_zeta_sp_limit import find_marginalized_zeta_sp_limit\n",
    "\n",
    "Ks = np.exp([-3, 0, 3])\n",
    "n_max = 200\n",
    "ns = range(1, n_max + 1)\n",
    "\n",
    "Ks_count = len(Ks)\n",
    "\n",
    "zeta_sp_borders = np.zeros((Ks_count, n_max), dtype = np.float)\n",
    "\n",
    "# Calculate roots for different n and K\n",
    "for K_ind in range(Ks_count):\n",
    "    K = Ks[K_ind]\n",
    "    for n_ind in range(n_max):\n",
    "        n = ns[n_ind]\n",
    "        zeta_sp_borders[K_ind, n_ind] = find_marginalized_zeta_sp_limit(n = n, n_pi = 4, K = K)\n",
    "# print(zeta_sp_borders)\n"
   ]
  },
  {
   "cell_type": "code",
   "execution_count": 32,
   "metadata": {},
   "outputs": [],
   "source": [
    "from plot_zeta_sp_borders import plot_zeta_sp_borders\n",
    "plot_zeta_sp_borders(ns, zeta_sp_borders)"
   ]
  },
  {
   "cell_type": "code",
   "execution_count": null,
   "metadata": {},
   "outputs": [],
   "source": []
  }
 ],
 "metadata": {
  "kernelspec": {
   "display_name": "Python 3",
   "language": "python",
   "name": "python3"
  },
  "language_info": {
   "codemirror_mode": {
    "name": "ipython",
    "version": 3
   },
   "file_extension": ".py",
   "mimetype": "text/x-python",
   "name": "python",
   "nbconvert_exporter": "python",
   "pygments_lexer": "ipython3",
   "version": "3.6.4"
  }
 },
 "nbformat": 4,
 "nbformat_minor": 2
}
