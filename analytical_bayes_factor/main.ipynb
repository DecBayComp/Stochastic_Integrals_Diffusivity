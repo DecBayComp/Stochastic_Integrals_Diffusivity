{
 "cells": [
  {
   "cell_type": "code",
   "execution_count": 1,
   "metadata": {},
   "outputs": [
    {
     "name": "stdout",
     "output_type": "stream",
     "text": [
      "Using matplotlib backend: TkAgg\n"
     ]
    }
   ],
   "source": [
    "# Magic functions\n",
    "%matplotlib\n",
    "%load_ext autoreload\n",
    "%autoreload 2\n",
    "\n"
   ]
  },
  {
   "cell_type": "code",
   "execution_count": 2,
   "metadata": {},
   "outputs": [
    {
     "data": {
      "application/javascript": [
       "IPython.OutputArea.prototype._should_scroll = function(lines) {\n",
       "    return false;\n",
       "}"
      ],
      "text/plain": [
       "<IPython.core.display.Javascript object>"
      ]
     },
     "metadata": {},
     "output_type": "display_data"
    }
   ],
   "source": [
    "%%javascript\n",
    "IPython.OutputArea.prototype._should_scroll = function(lines) {\n",
    "    return false;\n",
    "}"
   ]
  },
  {
   "cell_type": "code",
   "execution_count": 3,
   "metadata": {},
   "outputs": [],
   "source": [
    "from calculate_zeta_t_lims import calculate_zeta_t_lims\n",
    "from calculate_zeta_t_roots import calculate_zeta_t_roots\n",
    "from find_marginalized_zeta_t_roots import find_marginalized_zeta_t_roots\n",
    "from calculate_bayes_factor_limits import calculate_bayes_factor_limits\n",
    "import importlib\n",
    "from log_C import log_C as log_C_func\n",
    "import numpy as np\n",
    "from plot_K_L import plot_K_L\n",
    "from plot_zeta_t_perp import plot_zeta_t_perp\n",
    "import sys"
   ]
  },
  {
   "cell_type": "code",
   "execution_count": 4,
   "metadata": {},
   "outputs": [
    {
     "name": "stdout",
     "output_type": "stream",
     "text": [
      "Processing u: 1/3, n: 1/3\n",
      "Processing u: 1/3, n: 2/3\n",
      "Processing u: 1/3, n: 3/3\n",
      "Processing u: 2/3, n: 1/3\n",
      "Processing u: 2/3, n: 2/3\n",
      "Processing u: 2/3, n: 3/3\n",
      "Processing u: 3/3, n: 1/3\n",
      "Processing u: 3/3, n: 2/3\n",
      "Processing u: 3/3, n: 3/3\n",
      "Calculation terminated\n"
     ]
    }
   ],
   "source": [
    "\n",
    "\n",
    "\n",
    "## Constants\n",
    "lambs = (0, 0.5, 1.0)\n",
    "zeta_sp_abs_lim = 5.0\n",
    "zeta_sp_steps = 100\n",
    "dim = 2\n",
    "n_pi = 4\n",
    "ns = [10, 30, 100]\n",
    "B = 10 # at least strong evidence against H0\n",
    "log10_B = np.log10(B)\n",
    "zeta_t_perp = 0.2 # total force component orthogonal to the diffusivity gradient\n",
    "\n",
    "# Relative prior uncertainties\n",
    "us = [0.5, 1.0, 2.0] \n",
    "\n",
    "\n",
    "# Create zeta_sp mesh\n",
    "zeta_sps = np.linspace(- zeta_sp_abs_lim, zeta_sp_abs_lim, zeta_sp_steps)\n",
    "    \n",
    "# Calculate roots\n",
    "lambs_count = len(lambs)\n",
    "ns_count = len(ns)\n",
    "us_count = len(us)\n",
    "zeta_t_roots_size = (us_count, ns_count, lambs_count + 1, 2, zeta_sp_steps)\n",
    "zeta_t_roots = np.zeros(zeta_t_roots_size, dtype = np.float)\n",
    "\n",
    "\n",
    "for u_ind in range(us_count):\n",
    "    u = us[u_ind]\n",
    "    \n",
    "#     v = 1 + u * n_pi / ns + (dim - 1) * s * zeta_t_perp ** 2\n",
    "    \n",
    "    for n_ind in range(ns_count):\n",
    "        n = ns[n_ind]\n",
    "        print(\"Processing u: %i/%i, n: %i/%i\" % (u_ind + 1, us_count, n_ind + 1, ns_count))\n",
    "\n",
    "        # Check if the requested Bayes factor can be reached\n",
    "        log10_B_lims = calculate_bayes_factor_limits(ns = ns, n_pi = n_pi, dim = dim, zeta_t_perp = zeta_t_perp, u = u)\n",
    "        bl_reachable = log10_B >= log10_B_lims[n_ind, 0] and log10_B <= log10_B_lims[n_ind, 1]\n",
    "\n",
    "        if not bl_reachable:\n",
    "            print(\"Warning: The value of the Bayes factor (B = %.3g) cannot be achieved for the current parameters. Bayes factor limits: [%.3g; %.3g]\" \n",
    "                             % (10 ** log10_B, 10 ** log10_B_lims[n_ind, 0], 10 ** log10_B_lims[n_ind, 1]))\n",
    "            continue\n",
    "\n",
    "        for zeta_ind in range(zeta_sp_steps):\n",
    "            zeta_sp = zeta_sps[zeta_ind]\n",
    "\n",
    "            # Fixed-lambda models\n",
    "            for lamb_ind in range(lambs_count):\n",
    "                lamb = lambs[lamb_ind]\n",
    "\n",
    "                cur_roots = calculate_zeta_t_roots(zeta_sp = zeta_sp, lamb = lamb, n = n, n_pi = n_pi, B = B,\n",
    "                                                   dim = dim, zeta_t_perp = zeta_t_perp, u = u)\n",
    "                # Save\n",
    "                zeta_t_roots[u_ind, n_ind, lamb_ind, 0, zeta_ind] = cur_roots[0]\n",
    "                zeta_t_roots[u_ind, n_ind, lamb_ind, 1, zeta_ind] = cur_roots[1] \n",
    "\n",
    "            # Marginalized\n",
    "            cur_roots = find_marginalized_zeta_t_roots(zeta_sp = [zeta_sp], n = n, n_pi = n_pi, B = B, u = u, dim = dim, zeta_t_perp = zeta_t_perp)\n",
    "            # Save\n",
    "            zeta_t_roots[u_ind, n_ind, lambs_count, 0, zeta_ind] = cur_roots[0]\n",
    "            zeta_t_roots[u_ind, n_ind, lambs_count, 1, zeta_ind] = cur_roots[1]\n",
    "\n",
    "print(\"Calculation terminated\")\n",
    "        \n",
    "# print(zeta_t_roots)\n",
    "\n"
   ]
  },
  {
   "cell_type": "code",
   "execution_count": 33,
   "metadata": {
    "scrolled": false
   },
   "outputs": [],
   "source": [
    "# Plot\n",
    "plot_K_L(zeta_sps = zeta_sps, zeta_t_roots = zeta_t_roots, ns = ns, us = us, dim = dim, zeta_t_perp = zeta_t_perp)"
   ]
  },
  {
   "cell_type": "code",
   "execution_count": 46,
   "metadata": {},
   "outputs": [],
   "source": [
    "plot_zeta_t_perp(n_pi, us)"
   ]
  },
  {
   "cell_type": "code",
   "execution_count": null,
   "metadata": {},
   "outputs": [],
   "source": []
  },
  {
   "cell_type": "code",
   "execution_count": null,
   "metadata": {},
   "outputs": [],
   "source": [
    "from find_ito_roots import find_ito_roots\n",
    "find_ito_roots(n_0, n, n_pi)"
   ]
  },
  {
   "cell_type": "code",
   "execution_count": null,
   "metadata": {},
   "outputs": [],
   "source": [
    "from calculate_marginalized_integral import calculate_marginalized_integral\n",
    "calculate_marginalized_integral([0.5], [1], 10, 4)"
   ]
  },
  {
   "cell_type": "code",
   "execution_count": 93,
   "metadata": {},
   "outputs": [
    {
     "ename": "SyntaxError",
     "evalue": "invalid syntax (<ipython-input-93-f8c4847f4b7b>, line 1)",
     "output_type": "error",
     "traceback": [
      "\u001b[1;36m  File \u001b[1;32m\"<ipython-input-93-f8c4847f4b7b>\"\u001b[1;36m, line \u001b[1;32m1\u001b[0m\n\u001b[1;33m    2D: [[ -1.41497335 141.4973348 ]\u001b[0m\n\u001b[1;37m     ^\u001b[0m\n\u001b[1;31mSyntaxError\u001b[0m\u001b[1;31m:\u001b[0m invalid syntax\n"
     ]
    }
   ],
   "source": [
    "2D: [[ -1.41497335 141.4973348 ]\n",
    " [ -0.92941893  27.88256777]\n",
    " [ -0.54406804   5.44068044]]\n",
    "    \n",
    "1D: [[-0.70748667 70.7486674 ]\n",
    " [-0.46470946 13.94128389]\n",
    " [-0.27203402  2.72034022]]\n",
    "    "
   ]
  },
  {
   "cell_type": "code",
   "execution_count": null,
   "metadata": {},
   "outputs": [],
   "source": []
  },
  {
   "cell_type": "code",
   "execution_count": null,
   "metadata": {},
   "outputs": [],
   "source": [
    "y = [-1, 1]"
   ]
  },
  {
   "cell_type": "code",
   "execution_count": null,
   "metadata": {},
   "outputs": [],
   "source": [
    "print (K)"
   ]
  },
  {
   "cell_type": "code",
   "execution_count": 31,
   "metadata": {},
   "outputs": [],
   "source": [
    "from find_marginalized_zeta_sp_limit import find_marginalized_zeta_sp_limit\n",
    "\n",
    "Ks = np.exp([-3, 0, 3])\n",
    "n_max = 200\n",
    "ns = range(1, n_max + 1)\n",
    "\n",
    "Ks_count = len(Ks)\n",
    "\n",
    "zeta_sp_borders = np.zeros((Ks_count, n_max), dtype = np.float)\n",
    "\n",
    "# Calculate roots for different n and K\n",
    "for K_ind in range(Ks_count):\n",
    "    K = Ks[K_ind]\n",
    "    for n_ind in range(n_max):\n",
    "        n = ns[n_ind]\n",
    "        zeta_sp_borders[K_ind, n_ind] = find_marginalized_zeta_sp_limit(n = n, n_pi = 4, K = K)\n",
    "# print(zeta_sp_borders)\n"
   ]
  },
  {
   "cell_type": "code",
   "execution_count": 13,
   "metadata": {},
   "outputs": [
    {
     "ename": "NameError",
     "evalue": "name 'zeta_sp_borders' is not defined",
     "output_type": "error",
     "traceback": [
      "\u001b[1;31m---------------------------------------------------------------------------\u001b[0m",
      "\u001b[1;31mNameError\u001b[0m                                 Traceback (most recent call last)",
      "\u001b[1;32m<ipython-input-13-98e6768bed54>\u001b[0m in \u001b[0;36m<module>\u001b[1;34m()\u001b[0m\n\u001b[0;32m      1\u001b[0m \u001b[1;32mfrom\u001b[0m \u001b[0mplot_zeta_sp_borders\u001b[0m \u001b[1;32mimport\u001b[0m \u001b[0mplot_zeta_sp_borders\u001b[0m\u001b[1;33m\u001b[0m\u001b[0m\n\u001b[1;32m----> 2\u001b[1;33m \u001b[0mplot_zeta_sp_borders\u001b[0m\u001b[1;33m(\u001b[0m\u001b[0mns\u001b[0m\u001b[1;33m,\u001b[0m \u001b[0mzeta_sp_borders\u001b[0m\u001b[1;33m)\u001b[0m\u001b[1;33m\u001b[0m\u001b[0m\n\u001b[0m",
      "\u001b[1;31mNameError\u001b[0m: name 'zeta_sp_borders' is not defined"
     ]
    }
   ],
   "source": [
    "from plot_zeta_sp_borders import plot_zeta_sp_borders\n",
    "plot_zeta_sp_borders(ns, zeta_sp_borders)"
   ]
  },
  {
   "cell_type": "code",
   "execution_count": null,
   "metadata": {},
   "outputs": [],
   "source": []
  }
 ],
 "metadata": {
  "kernelspec": {
   "display_name": "Python 3",
   "language": "python",
   "name": "python3"
  },
  "language_info": {
   "codemirror_mode": {
    "name": "ipython",
    "version": 3
   },
   "file_extension": ".py",
   "mimetype": "text/x-python",
   "name": "python",
   "nbconvert_exporter": "python",
   "pygments_lexer": "ipython3",
   "version": "3.6.4"
  }
 },
 "nbformat": 4,
 "nbformat_minor": 2
}
