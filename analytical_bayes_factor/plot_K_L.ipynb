{
 "cells": [
  {
   "cell_type": "code",
   "execution_count": null,
   "metadata": {},
   "outputs": [],
   "source": [
    "import matplotlib.pyplot as plt\n",
    "\n",
    "\n",
    "def plot_K_L(zeta_t_points, zeta_sp_roots):\n",
    "\t\"\"\"\n",
    "\tMake the parametric plot of the local Bayes factor\n",
    "\t\"\"\"\n",
    "\tlamb_ind = 0\n",
    "\tbranch_ind = 0\n",
    "\t# fig = mpl.pyplot.figure()\n",
    "\n",
    "\tplt(zeta_t_points[:, lamb_ind, branch_ind], zeta_sp_points[:, lamb_ind, branch_ind])\n",
    "\n",
    "\tplt.show(block = True)"
   ]
  }
 ],
 "metadata": {
  "kernelspec": {
   "display_name": "Python 3",
   "language": "python",
   "name": "python3"
  },
  "language_info": {
   "codemirror_mode": {
    "name": "ipython",
    "version": 3
   },
   "file_extension": ".py",
   "mimetype": "text/x-python",
   "name": "python",
   "nbconvert_exporter": "python",
   "pygments_lexer": "ipython3",
   "version": "3.6.4"
  }
 },
 "nbformat": 4,
 "nbformat_minor": 2
}
